{
 "cells": [
  {
   "cell_type": "code",
   "execution_count": 1,
   "metadata": {},
   "outputs": [],
   "source": [
    "import pandas as pd\n",
    "import cupy as cp"
   ]
  },
  {
   "cell_type": "code",
   "execution_count": 3,
   "metadata": {},
   "outputs": [],
   "source": [
    "column_names = [\"duration\", \"protocol_type\", \"service\", \"flag\", \"src_bytes\", \"dst_bytes\", \"land\", \"wrong_fragment\", \"urgent\", \"hot\", \"num_failed_logins\", \"logged_in\",\n",
    "                \"num_compromised\", \"root_shell\", \"su_attempted\", \"num_root\", \"num_file_creations\", \"num_shells\", \"num_access_files\", \"num_outbound_cmds\", \"is_host_login\",\n",
    "                \"is_guest_login\", \"count\", \"srv_count\", \"serror_rate\", \"srv_serror_rate\", \"rerror_rate\", \"srv_rerror_rate\", \"same_srv_rate\", \"diff_srv_rate\", \"srv_diff_host_rate\",\n",
    "                \"dst_host_count\", \"dst_host_srv_count\", \"dst_host_same_srv_rate\", \"dst_host_diff_srv_rate\", \"dst_host_same_src_port_rate\", \"dst_host_srv_diff_host_rate\",\n",
    "                \"dst_host_serror_rate\", \"dst_host_srv_serror_rate\", \"dst_host_rerror_rate\", \"dst_host_srv_rerror_rate\", \"attack\"]\n",
    "\n",
    "dataset = pd.read_csv('../../dataset/kddcup.data_10_percent_corrected', header=None, names=column_names)\n",
    "\n",
    "protocol_type = {\"icmp\": 0, \"tcp\": 1, \"udp\": 2}\n",
    "service = {\"auth\": 0, \"bgp\": 1, \"courier\": 2, \"csnet_ns\": 3, \"ctf\": 4, \"daytime\": 5, \"discard\": 6, \"domain\": 7, \"domain_u\": 8, \"echo\": 9, \"eco_i\": 10, \"ecr_i\": 11, \"efs\": 12,\n",
    "           \"exec\": 13, \"finger\": 14, \"ftp\": 15, \"ftp_data\": 16, \"gopher\": 17, \"hostnames\": 18, \"http\": 19, \"http_443\": 20, \"imap4\": 21, \"IRC\": 22, \"iso_tsap\": 23, \"klogin\": 24,\n",
    "           \"kshell\": 25, \"ldap\": 26, \"link\": 27, \"login\": 28, \"mtp\": 29, \"name\": 30, \"netbios_dgm\": 31, \"netbios_ns\": 32, \"netbios_ssn\": 33, \"netstat\": 34, \"nnsp\": 35, \"nntp\": 36,\n",
    "           \"ntp_u\": 37, \"other\": 38, \"pm_dump\": 39, \"pop_2\": 40, \"pop_3\": 41, \"printer\": 42, \"private\": 43, \"red_i\": 44, \"remote_job\": 45, \"rje\": 46, \"shell\": 47, \"smtp\": 48,\n",
    "           \"sql_net\": 49, \"ssh\": 50, \"sunrpc\": 51, \"supdup\": 52, \"systat\": 53, \"telnet\": 54, \"tftp_u\": 55, \"time\": 56, \"tim_i\": 57, \"urh_i\": 58, \"urp_i\": 59, \"uucp\": 60,\n",
    "           \"uucp_path\": 61, \"vmnet\": 62, \"whois\": 63, \"X11\": 64, \"Z39_50\": 65}\n",
    "flag = {\"OTH\": 0, \"REJ\": 1, \"RSTO\": 2, \"RSTOS0\": 3, \"RSTR\": 4, \"S0\": 5, \"S1\": 6, \"S2\": 7, \"S3\": 8, \"SF\": 9, \"SH\": 10}\n",
    "attack = {\"back.\": 0, \"buffer_overflow.\": 1, \"ftp_write.\": 2, \"guess_passwd.\": 3, \"imap.\": 4, \"ipsweep.\": 5, \"land.\": 6, \"loadmodule.\": 7, \"multihop.\": 8, \"neptune.\": 9,\n",
    "          \"nmap.\": 10, \"normal.\": 11, \"perl.\": 12, \"phf.\": 13, \"pod.\": 14, \"portsweep.\": 15, \"rootkit.\": 16, \"satan.\": 17, \"smurf.\": 18, \"spy.\": 19, \"teardrop.\": 20,\n",
    "          \"warezclient.\": 21, \"warezmaster.\": 22}\n",
    "\n",
    "dataset = dataset.replace({\"protocol_type\": protocol_type, \"service\": service, \"flag\": flag, \"attack\": attack})"
   ]
  },
  {
   "cell_type": "code",
   "execution_count": null,
   "metadata": {},
   "outputs": [],
   "source": [
    "included_features = column_names\n",
    "\n",
    "i = 0\n",
    "j = 1\n",
    "while i < len(included_features):\n",
    "    col1 = dataset[column_names[i]]\n",
    "\n",
    "    while j < len(included_features):\n",
    "        col2 = dataset[column_names[j]]\n",
    "        corrcoef = cp.corrcoef(col1, col2)\n",
    "\n",
    "        if abs(corrcoef[0][1]) > 0.5:\n",
    "            included_features.remove(included_features[j])\n",
    "        else:\n",
    "            j = j + 1\n",
    "\n",
    "    i = i + 1\n",
    "    j = i + 1\n"
   ]
  },
  {
   "cell_type": "code",
   "execution_count": null,
   "metadata": {},
   "outputs": [],
   "source": [
    "dataset_norm = (dataset - dataset.mean()) / (dataset.max() - dataset.min())"
   ]
  }
 ],
 "metadata": {
  "kernelspec": {
   "display_name": "Python 3",
   "language": "python",
   "name": "python3"
  },
  "language_info": {
   "codemirror_mode": {
    "name": "ipython",
    "version": 3
   },
   "file_extension": ".py",
   "mimetype": "text/x-python",
   "name": "python",
   "nbconvert_exporter": "python",
   "pygments_lexer": "ipython3",
   "version": "3.6.6"
  }
 },
 "nbformat": 4,
 "nbformat_minor": 2
}
